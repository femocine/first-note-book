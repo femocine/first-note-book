{
 "cells": [
  {
   "cell_type": "markdown",
   "id": "d18dd89a-8288-4122-80cb-c8b611874967",
   "metadata": {},
   "source": [
    "# Data Science Tools and Ecosystem"
   ]
  },
  {
   "cell_type": "markdown",
   "id": "af65fc74-fec5-4761-ac4d-23ed3f81a219",
   "metadata": {},
   "source": [
    "In this note book, Data Science Tools and Ecosystem are summerized"
   ]
  },
  {
   "cell_type": "markdown",
   "id": "96fbe1ab-0fcc-4318-81e6-bf5b05ed1ee8",
   "metadata": {},
   "source": [
    "**Objectives:**\n",
    "\n",
    "- Some popular languages that data scientist use\n",
    "* Some common;y used libraries used by data scientist\n",
    "+ Creating a markdown cell with a table of Data Science tools\n",
    "- Creating a markdown cell introducing arithmetic expression examples\n",
    "\n"
   ]
  },
  {
   "cell_type": "markdown",
   "id": "857c322d-b052-4da9-bfe8-1783aa74ebae",
   "metadata": {},
   "source": [
    "Some of the popular languages that Data Scientists use are:\n",
    "1. Python\n",
    "2. R\n",
    "3. SQL\n",
    "4. Scala\n",
    "5. Java\n",
    "6. Julia\n",
    "7. C++"
   ]
  },
  {
   "cell_type": "markdown",
   "id": "dd7934de-07d3-4fca-8ce8-198fcd71a911",
   "metadata": {},
   "source": [
    "Some of the commonly used libraries used by Data Scientists include:\n",
    "1. Pandas\n",
    "2. Numpy\n",
    "3. Matplolib\n",
    "4. Keras\n",
    "5. Tensorflow"
   ]
  },
  {
   "cell_type": "markdown",
   "id": "1dc170fa-94c6-49ba-a983-55199b6a19ca",
   "metadata": {},
   "source": [
    "|Data Scince Tools|\n",
    "--------------------\n",
    "|Rstudio|\n",
    "|Apache Spark|\n",
    "|TensorFlow|"
   ]
  },
  {
   "cell_type": "markdown",
   "id": "36e02c35-27b9-4cbb-8412-554c1b137d1e",
   "metadata": {},
   "source": [
    "### Below are a few examples of evaluating arithmetic expressions in Python\n",
    "(3*4)+5\n",
    "\n",
    "12+5\n",
    "\n",
    "23-23\n",
    "\n",
    "98(45+4)\n",
    "\n"
   ]
  },
  {
   "cell_type": "code",
   "execution_count": 1,
   "id": "b1d94c5b-e851-4441-897f-58639ce5fb95",
   "metadata": {},
   "outputs": [
    {
     "data": {
      "text/plain": [
       "17"
      ]
     },
     "execution_count": 1,
     "metadata": {},
     "output_type": "execute_result"
    }
   ],
   "source": [
    "# This a simple arithmetic expression to mutiply then add integers\n",
    "(3*4)+5"
   ]
  },
  {
   "cell_type": "code",
   "execution_count": 16,
   "id": "e043f205-fe91-4b62-81a0-046f32b6fcef",
   "metadata": {},
   "outputs": [
    {
     "data": {
      "text/plain": [
       "3.3333333333333335"
      ]
     },
     "execution_count": 16,
     "metadata": {},
     "output_type": "execute_result"
    }
   ],
   "source": [
    "# This will convert 200 minutes to hours by diving by 60\n",
    "200/60 \n"
   ]
  },
  {
   "cell_type": "markdown",
   "id": "6d05ebad-5160-42be-94ab-abd5b13d1c8e",
   "metadata": {},
   "source": [
    "## Author\n",
    "Odediran Olabode"
   ]
  },
  {
   "cell_type": "code",
   "execution_count": null,
   "id": "51ebcf5a-679f-4c51-83fd-ac8183cc7bca",
   "metadata": {},
   "outputs": [],
   "source": []
  }
 ],
 "metadata": {
  "kernelspec": {
   "display_name": "anaconda-2022.05-py39",
   "language": "python",
   "name": "conda-env-anaconda-2022.05-py39-py"
  },
  "language_info": {
   "codemirror_mode": {
    "name": "ipython",
    "version": 3
   },
   "file_extension": ".py",
   "mimetype": "text/x-python",
   "name": "python",
   "nbconvert_exporter": "python",
   "pygments_lexer": "ipython3",
   "version": "3.9.12"
  }
 },
 "nbformat": 4,
 "nbformat_minor": 5
}
